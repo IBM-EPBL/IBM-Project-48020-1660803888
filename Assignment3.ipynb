{
  "nbformat": 4,
  "nbformat_minor": 0,
  "metadata": {
    "colab": {
      "provenance": [],
      "include_colab_link": true
    },
    "kernelspec": {
      "name": "python3",
      "display_name": "Python 3"
    },
    "language_info": {
      "name": "python"
    }
  },
  "cells": [
    {
      "cell_type": "markdown",
      "metadata": {
        "id": "view-in-github",
        "colab_type": "text"
      },
      "source": [
        "<a href=\"https://colab.research.google.com/github/IBM-EPBL/IBM-Project-48020-1660803888/blob/main/Assignment3.ipynb\" target=\"_parent\"><img src=\"https://colab.research.google.com/assets/colab-badge.svg\" alt=\"Open In Colab\"/></a>"
      ]
    },
    {
      "cell_type": "code",
      "execution_count": null,
      "metadata": {
        "colab": {
          "base_uri": "https://localhost:8080/",
          "height": 73
        },
        "id": "LVNxLBNvSsyU",
        "outputId": "18df3e53-f923-4e2d-a461-de104f0d7878"
      },
      "outputs": [
        {
          "output_type": "display_data",
          "data": {
            "text/plain": [
              "<IPython.core.display.HTML object>"
            ],
            "text/html": [
              "\n",
              "     <input type=\"file\" id=\"files-34dc585b-0fba-43ef-8c10-65846000fea5\" name=\"files[]\" multiple disabled\n",
              "        style=\"border:none\" />\n",
              "     <output id=\"result-34dc585b-0fba-43ef-8c10-65846000fea5\">\n",
              "      Upload widget is only available when the cell has been executed in the\n",
              "      current browser session. Please rerun this cell to enable.\n",
              "      </output>\n",
              "      <script>// Copyright 2017 Google LLC\n",
              "//\n",
              "// Licensed under the Apache License, Version 2.0 (the \"License\");\n",
              "// you may not use this file except in compliance with the License.\n",
              "// You may obtain a copy of the License at\n",
              "//\n",
              "//      http://www.apache.org/licenses/LICENSE-2.0\n",
              "//\n",
              "// Unless required by applicable law or agreed to in writing, software\n",
              "// distributed under the License is distributed on an \"AS IS\" BASIS,\n",
              "// WITHOUT WARRANTIES OR CONDITIONS OF ANY KIND, either express or implied.\n",
              "// See the License for the specific language governing permissions and\n",
              "// limitations under the License.\n",
              "\n",
              "/**\n",
              " * @fileoverview Helpers for google.colab Python module.\n",
              " */\n",
              "(function(scope) {\n",
              "function span(text, styleAttributes = {}) {\n",
              "  const element = document.createElement('span');\n",
              "  element.textContent = text;\n",
              "  for (const key of Object.keys(styleAttributes)) {\n",
              "    element.style[key] = styleAttributes[key];\n",
              "  }\n",
              "  return element;\n",
              "}\n",
              "\n",
              "// Max number of bytes which will be uploaded at a time.\n",
              "const MAX_PAYLOAD_SIZE = 100 * 1024;\n",
              "\n",
              "function _uploadFiles(inputId, outputId) {\n",
              "  const steps = uploadFilesStep(inputId, outputId);\n",
              "  const outputElement = document.getElementById(outputId);\n",
              "  // Cache steps on the outputElement to make it available for the next call\n",
              "  // to uploadFilesContinue from Python.\n",
              "  outputElement.steps = steps;\n",
              "\n",
              "  return _uploadFilesContinue(outputId);\n",
              "}\n",
              "\n",
              "// This is roughly an async generator (not supported in the browser yet),\n",
              "// where there are multiple asynchronous steps and the Python side is going\n",
              "// to poll for completion of each step.\n",
              "// This uses a Promise to block the python side on completion of each step,\n",
              "// then passes the result of the previous step as the input to the next step.\n",
              "function _uploadFilesContinue(outputId) {\n",
              "  const outputElement = document.getElementById(outputId);\n",
              "  const steps = outputElement.steps;\n",
              "\n",
              "  const next = steps.next(outputElement.lastPromiseValue);\n",
              "  return Promise.resolve(next.value.promise).then((value) => {\n",
              "    // Cache the last promise value to make it available to the next\n",
              "    // step of the generator.\n",
              "    outputElement.lastPromiseValue = value;\n",
              "    return next.value.response;\n",
              "  });\n",
              "}\n",
              "\n",
              "/**\n",
              " * Generator function which is called between each async step of the upload\n",
              " * process.\n",
              " * @param {string} inputId Element ID of the input file picker element.\n",
              " * @param {string} outputId Element ID of the output display.\n",
              " * @return {!Iterable<!Object>} Iterable of next steps.\n",
              " */\n",
              "function* uploadFilesStep(inputId, outputId) {\n",
              "  const inputElement = document.getElementById(inputId);\n",
              "  inputElement.disabled = false;\n",
              "\n",
              "  const outputElement = document.getElementById(outputId);\n",
              "  outputElement.innerHTML = '';\n",
              "\n",
              "  const pickedPromise = new Promise((resolve) => {\n",
              "    inputElement.addEventListener('change', (e) => {\n",
              "      resolve(e.target.files);\n",
              "    });\n",
              "  });\n",
              "\n",
              "  const cancel = document.createElement('button');\n",
              "  inputElement.parentElement.appendChild(cancel);\n",
              "  cancel.textContent = 'Cancel upload';\n",
              "  const cancelPromise = new Promise((resolve) => {\n",
              "    cancel.onclick = () => {\n",
              "      resolve(null);\n",
              "    };\n",
              "  });\n",
              "\n",
              "  // Wait for the user to pick the files.\n",
              "  const files = yield {\n",
              "    promise: Promise.race([pickedPromise, cancelPromise]),\n",
              "    response: {\n",
              "      action: 'starting',\n",
              "    }\n",
              "  };\n",
              "\n",
              "  cancel.remove();\n",
              "\n",
              "  // Disable the input element since further picks are not allowed.\n",
              "  inputElement.disabled = true;\n",
              "\n",
              "  if (!files) {\n",
              "    return {\n",
              "      response: {\n",
              "        action: 'complete',\n",
              "      }\n",
              "    };\n",
              "  }\n",
              "\n",
              "  for (const file of files) {\n",
              "    const li = document.createElement('li');\n",
              "    li.append(span(file.name, {fontWeight: 'bold'}));\n",
              "    li.append(span(\n",
              "        `(${file.type || 'n/a'}) - ${file.size} bytes, ` +\n",
              "        `last modified: ${\n",
              "            file.lastModifiedDate ? file.lastModifiedDate.toLocaleDateString() :\n",
              "                                    'n/a'} - `));\n",
              "    const percent = span('0% done');\n",
              "    li.appendChild(percent);\n",
              "\n",
              "    outputElement.appendChild(li);\n",
              "\n",
              "    const fileDataPromise = new Promise((resolve) => {\n",
              "      const reader = new FileReader();\n",
              "      reader.onload = (e) => {\n",
              "        resolve(e.target.result);\n",
              "      };\n",
              "      reader.readAsArrayBuffer(file);\n",
              "    });\n",
              "    // Wait for the data to be ready.\n",
              "    let fileData = yield {\n",
              "      promise: fileDataPromise,\n",
              "      response: {\n",
              "        action: 'continue',\n",
              "      }\n",
              "    };\n",
              "\n",
              "    // Use a chunked sending to avoid message size limits. See b/62115660.\n",
              "    let position = 0;\n",
              "    do {\n",
              "      const length = Math.min(fileData.byteLength - position, MAX_PAYLOAD_SIZE);\n",
              "      const chunk = new Uint8Array(fileData, position, length);\n",
              "      position += length;\n",
              "\n",
              "      const base64 = btoa(String.fromCharCode.apply(null, chunk));\n",
              "      yield {\n",
              "        response: {\n",
              "          action: 'append',\n",
              "          file: file.name,\n",
              "          data: base64,\n",
              "        },\n",
              "      };\n",
              "\n",
              "      let percentDone = fileData.byteLength === 0 ?\n",
              "          100 :\n",
              "          Math.round((position / fileData.byteLength) * 100);\n",
              "      percent.textContent = `${percentDone}% done`;\n",
              "\n",
              "    } while (position < fileData.byteLength);\n",
              "  }\n",
              "\n",
              "  // All done.\n",
              "  yield {\n",
              "    response: {\n",
              "      action: 'complete',\n",
              "    }\n",
              "  };\n",
              "}\n",
              "\n",
              "scope.google = scope.google || {};\n",
              "scope.google.colab = scope.google.colab || {};\n",
              "scope.google.colab._files = {\n",
              "  _uploadFiles,\n",
              "  _uploadFilesContinue,\n",
              "};\n",
              "})(self);\n",
              "</script> "
            ]
          },
          "metadata": {}
        },
        {
          "output_type": "stream",
          "name": "stdout",
          "text": [
            "Saving Flowers-Dataset.zip to Flowers-Dataset.zip\n"
          ]
        }
      ],
      "source": [
        "import pandas as pd\n",
        "from google.colab import files\n",
        "Data = files.upload()"
      ]
    },
    {
      "cell_type": "markdown",
      "source": [],
      "metadata": {
        "id": "Tap87JkhjO6j"
      }
    },
    {
      "cell_type": "markdown",
      "source": [
        "1. Download and Extracting **Dataset**"
      ],
      "metadata": {
        "id": "QejYA-bIjPL2"
      }
    },
    {
      "cell_type": "code",
      "source": [],
      "metadata": {
        "id": "ynA-LmJjjnmB"
      },
      "execution_count": null,
      "outputs": []
    },
    {
      "cell_type": "markdown",
      "source": [
        "2.IMAGE AUGMENTATION"
      ],
      "metadata": {
        "id": "9Al7qz7syB7S"
      }
    },
    {
      "cell_type": "code",
      "source": [
        "from tensorflow.keras.preprocessing.image import ImageDataGenerator\n",
        "from matplotlib.pyplot import imread,imshow,subplots,show\n",
        "import numpy as np\n",
        "import os\n",
        "from PIL import Image\n",
        "from skimage import io"
      ],
      "metadata": {
        "id": "OzSYi-XiyGwk"
      },
      "execution_count": null,
      "outputs": []
    },
    {
      "cell_type": "code",
      "source": [
        "train_data=ImageDataGenerator(rescale=1./255,zoom_range=0.2,horizontal_flip=True)"
      ],
      "metadata": {
        "id": "qkgob0ENyTOi"
      },
      "execution_count": null,
      "outputs": []
    },
    {
      "cell_type": "code",
      "source": [
        "test_data=ImageDataGenerator(rescale=1./255)"
      ],
      "metadata": {
        "id": "3r-Kf1F8yZgd"
      },
      "execution_count": null,
      "outputs": []
    },
    {
      "cell_type": "code",
      "source": [
        "xtrain=train_data.flow_from_directory('flowers/',\n",
        "                                      target_size=(64,64),\n",
        "                                      class_mode='categorical',\n",
        "                                      batch_size=100)\n"
      ],
      "metadata": {
        "colab": {
          "base_uri": "https://localhost:8080/"
        },
        "id": "LgvkrP5gydiy",
        "outputId": "8e1fc7a5-983b-4c77-cad7-48dc6a92f016"
      },
      "execution_count": null,
      "outputs": [
        {
          "output_type": "stream",
          "name": "stdout",
          "text": [
            "Found 4317 images belonging to 5 classes.\n"
          ]
        }
      ]
    },
    {
      "cell_type": "code",
      "source": [
        "xtest=test_data.flow_from_directory('flowers/',\n",
        "                                         target_size=(64,64),\n",
        "                                         class_mode='categorical',\n",
        "                                         batch_size=100)"
      ],
      "metadata": {
        "colab": {
          "base_uri": "https://localhost:8080/"
        },
        "id": "DSiM6rOMyl9I",
        "outputId": "06bc6dba-9623-48f9-b913-f8d421192aed"
      },
      "execution_count": null,
      "outputs": [
        {
          "output_type": "stream",
          "name": "stdout",
          "text": [
            "Found 4317 images belonging to 5 classes.\n"
          ]
        }
      ]
    },
    {
      "cell_type": "code",
      "source": [],
      "metadata": {
        "id": "7by4X8VDysE9"
      },
      "execution_count": null,
      "outputs": []
    },
    {
      "cell_type": "markdown",
      "source": [
        "3.CREATE MODEL"
      ],
      "metadata": {
        "id": "QPf407Mbyx3z"
      }
    },
    {
      "cell_type": "code",
      "source": [
        "from keras.models import Sequential\n",
        "from keras.layers import Conv2D\n",
        "from keras.layers import MaxPooling2D\n",
        "from keras.layers import Flatten\n",
        "from keras.layers import Dense\n",
        "from keras.preprocessing.image import ImageDataGenerator"
      ],
      "metadata": {
        "id": "dDIgHoZUy3bS"
      },
      "execution_count": null,
      "outputs": []
    },
    {
      "cell_type": "code",
      "source": [],
      "metadata": {
        "id": "uf-DHR6Ny4Kn"
      },
      "execution_count": null,
      "outputs": []
    },
    {
      "cell_type": "markdown",
      "source": [
        "4.Add Layers (Convolution,MaxPooling,Flatten,Dense-(HiddenLayers),Output)"
      ],
      "metadata": {
        "id": "mms9E4fpy-Zk"
      }
    },
    {
      "cell_type": "markdown",
      "source": [],
      "metadata": {
        "id": "z5WFClrLzDRl"
      }
    },
    {
      "cell_type": "code",
      "source": [
        "model=Sequential()\n",
        "model.add(Conv2D(32,(3,3),input_shape=(64,64,3),activation='relu'))\n",
        "model.add(MaxPooling2D(pool_size=(2,2)))\n",
        "model.add(Flatten())\n",
        "model.add(Dense(units=300,activation='relu'))\n",
        "model.add(Dense(units=150,activation='sigmoid'))\n",
        "model.add(Dense(5,activation='softmax'))"
      ],
      "metadata": {
        "id": "FeAiThJyzDqn"
      },
      "execution_count": null,
      "outputs": []
    },
    {
      "cell_type": "code",
      "source": [],
      "metadata": {
        "id": "OzM6wLi7zHdQ"
      },
      "execution_count": null,
      "outputs": []
    },
    {
      "cell_type": "markdown",
      "source": [
        "5.COMPILE THE MODEL\n"
      ],
      "metadata": {
        "id": "A-ayYX9wzM-v"
      }
    },
    {
      "cell_type": "code",
      "source": [
        "model.compile(optimizer='adam',loss='binary_crossentropy',metrics=['accuracy'])"
      ],
      "metadata": {
        "id": "alFJNvO1zQYA"
      },
      "execution_count": null,
      "outputs": []
    },
    {
      "cell_type": "code",
      "source": [
        "6.FIT THE MODEL\n"
      ],
      "metadata": {
        "id": "NfVJSWX2zRF9"
      },
      "execution_count": null,
      "outputs": []
    },
    {
      "cell_type": "code",
      "source": [
        "model.fit_generator(xtrain,steps_per_epoch=len(xtrain),epochs=30,validation_data=xtest,validation_steps=len(xtest))"
      ],
      "metadata": {
        "colab": {
          "base_uri": "https://localhost:8080/"
        },
        "id": "-G3dw-LBzZt7",
        "outputId": "2b9f96d2-6072-4362-c7db-67050d12d7e0"
      },
      "execution_count": null,
      "outputs": [
        {
          "output_type": "stream",
          "name": "stderr",
          "text": [
            "/usr/local/lib/python3.7/dist-packages/ipykernel_launcher.py:1: UserWarning: `Model.fit_generator` is deprecated and will be removed in a future version. Please use `Model.fit`, which supports generators.\n",
            "  \"\"\"Entry point for launching an IPython kernel.\n"
          ]
        },
        {
          "output_type": "stream",
          "name": "stdout",
          "text": [
            "Epoch 1/30\n",
            "44/44 [==============================] - 53s 1s/step - loss: 0.4485 - accuracy: 0.4137 - val_loss: 0.3991 - val_accuracy: 0.4934\n",
            "Epoch 2/30\n",
            "44/44 [==============================] - 49s 1s/step - loss: 0.3873 - accuracy: 0.5247 - val_loss: 0.3657 - val_accuracy: 0.5724\n",
            "Epoch 3/30\n",
            "44/44 [==============================] - 46s 1s/step - loss: 0.3641 - accuracy: 0.5722 - val_loss: 0.3587 - val_accuracy: 0.5606\n",
            "Epoch 4/30\n",
            "44/44 [==============================] - 49s 1s/step - loss: 0.3453 - accuracy: 0.6050 - val_loss: 0.3438 - val_accuracy: 0.5995\n",
            "Epoch 5/30\n",
            "44/44 [==============================] - 51s 1s/step - loss: 0.3302 - accuracy: 0.6196 - val_loss: 0.3244 - val_accuracy: 0.6322\n",
            "Epoch 6/30\n",
            "44/44 [==============================] - 49s 1s/step - loss: 0.3154 - accuracy: 0.6532 - val_loss: 0.3140 - val_accuracy: 0.6338\n",
            "Epoch 7/30\n",
            "44/44 [==============================] - 47s 1s/step - loss: 0.3002 - accuracy: 0.6671 - val_loss: 0.3010 - val_accuracy: 0.6560\n",
            "Epoch 8/30\n",
            "44/44 [==============================] - 47s 1s/step - loss: 0.2870 - accuracy: 0.6840 - val_loss: 0.3032 - val_accuracy: 0.6586\n",
            "Epoch 9/30\n",
            "44/44 [==============================] - 49s 1s/step - loss: 0.2841 - accuracy: 0.6931 - val_loss: 0.2734 - val_accuracy: 0.7058\n",
            "Epoch 10/30\n",
            "44/44 [==============================] - 45s 1s/step - loss: 0.2669 - accuracy: 0.7139 - val_loss: 0.2685 - val_accuracy: 0.6998\n",
            "Epoch 11/30\n",
            "44/44 [==============================] - 51s 1s/step - loss: 0.2537 - accuracy: 0.7301 - val_loss: 0.2498 - val_accuracy: 0.7287\n",
            "Epoch 12/30\n",
            "44/44 [==============================] - 48s 1s/step - loss: 0.2530 - accuracy: 0.7306 - val_loss: 0.2350 - val_accuracy: 0.7577\n",
            "Epoch 13/30\n",
            "44/44 [==============================] - 47s 1s/step - loss: 0.2425 - accuracy: 0.7457 - val_loss: 0.2216 - val_accuracy: 0.7716\n",
            "Epoch 14/30\n",
            "44/44 [==============================] - 47s 1s/step - loss: 0.2345 - accuracy: 0.7521 - val_loss: 0.2060 - val_accuracy: 0.7938\n",
            "Epoch 15/30\n",
            "44/44 [==============================] - 48s 1s/step - loss: 0.2251 - accuracy: 0.7653 - val_loss: 0.2114 - val_accuracy: 0.7765\n",
            "Epoch 16/30\n",
            "44/44 [==============================] - 46s 1s/step - loss: 0.2210 - accuracy: 0.7746 - val_loss: 0.2120 - val_accuracy: 0.7846\n",
            "Epoch 17/30\n",
            "44/44 [==============================] - 46s 1s/step - loss: 0.2178 - accuracy: 0.7776 - val_loss: 0.2009 - val_accuracy: 0.7948\n",
            "Epoch 18/30\n",
            "44/44 [==============================] - 48s 1s/step - loss: 0.2031 - accuracy: 0.7943 - val_loss: 0.2131 - val_accuracy: 0.7702\n",
            "Epoch 19/30\n",
            "44/44 [==============================] - 49s 1s/step - loss: 0.1898 - accuracy: 0.8168 - val_loss: 0.1727 - val_accuracy: 0.8358\n",
            "Epoch 20/30\n",
            "44/44 [==============================] - 47s 1s/step - loss: 0.1861 - accuracy: 0.8142 - val_loss: 0.1592 - val_accuracy: 0.8494\n",
            "Epoch 21/30\n",
            "44/44 [==============================] - 45s 1s/step - loss: 0.1730 - accuracy: 0.8321 - val_loss: 0.1688 - val_accuracy: 0.8251\n",
            "Epoch 22/30\n",
            "44/44 [==============================] - 47s 1s/step - loss: 0.1773 - accuracy: 0.8235 - val_loss: 0.1672 - val_accuracy: 0.8314\n",
            "Epoch 23/30\n",
            "44/44 [==============================] - 46s 1s/step - loss: 0.1638 - accuracy: 0.8460 - val_loss: 0.1332 - val_accuracy: 0.8809\n",
            "Epoch 24/30\n",
            "44/44 [==============================] - 49s 1s/step - loss: 0.1535 - accuracy: 0.8562 - val_loss: 0.1254 - val_accuracy: 0.8893\n",
            "Epoch 25/30\n",
            "44/44 [==============================] - 46s 1s/step - loss: 0.1477 - accuracy: 0.8629 - val_loss: 0.1287 - val_accuracy: 0.8819\n",
            "Epoch 26/30\n",
            "44/44 [==============================] - 48s 1s/step - loss: 0.1462 - accuracy: 0.8624 - val_loss: 0.1273 - val_accuracy: 0.8839\n",
            "Epoch 27/30\n",
            "44/44 [==============================] - 46s 1s/step - loss: 0.1305 - accuracy: 0.8802 - val_loss: 0.1148 - val_accuracy: 0.8985\n",
            "Epoch 28/30\n",
            "44/44 [==============================] - 49s 1s/step - loss: 0.1287 - accuracy: 0.8802 - val_loss: 0.0941 - val_accuracy: 0.9252\n",
            "Epoch 29/30\n",
            "44/44 [==============================] - 46s 1s/step - loss: 0.1299 - accuracy: 0.8846 - val_loss: 0.0933 - val_accuracy: 0.9280\n",
            "Epoch 30/30\n",
            "44/44 [==============================] - 44s 1000ms/step - loss: 0.1118 - accuracy: 0.8995 - val_loss: 0.0820 - val_accuracy: 0.9354\n"
          ]
        },
        {
          "output_type": "execute_result",
          "data": {
            "text/plain": [
              "<keras.callbacks.History at 0x7f3105fe6e50>"
            ]
          },
          "metadata": {},
          "execution_count": 39
        }
      ]
    },
    {
      "cell_type": "code",
      "source": [],
      "metadata": {
        "id": "3ijhX6b4zafF"
      },
      "execution_count": null,
      "outputs": []
    }
  ]
}